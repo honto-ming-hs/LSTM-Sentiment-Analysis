{
 "cells": [
  {
   "cell_type": "markdown",
   "metadata": {
    "colab_type": "text",
    "id": "jhUWkakza7OQ"
   },
   "source": [
    "# Sentiment Analysis with LSTMs"
   ]
  },
  {
   "cell_type": "markdown",
   "metadata": {
    "colab_type": "text",
    "id": "-dUnKhUba7OQ"
   },
   "source": [
    "In this notebook, we'll be looking at how to apply deep learning techniques to the task of sentiment analysis. Sentiment analysis can be thought of as the exercise of taking a sentence, paragraph, document, or any piece of natural language, and determining whether that text's emotional tone is positive, negative or neutral. \n",
    "\n",
    "This notebook will go through the general steps involved with all machine learning problems. Also, it will cover numerous topics like word vectors, recurrent neural networks, and long short-term memory units (LSTMs). Don't get discouraged if you don't get a full understanding of what these terms mean at the first go. There will be links provided for additional reading on these topics.\n",
    "\n",
    "Before getting into the specifics, let's discuss the reasons why deep learning fits into natural language processing (NLP) tasks. "
   ]
  },
  {
   "cell_type": "markdown",
   "metadata": {
    "colab_type": "text",
    "id": "jrnSYJbWa7OR"
   },
   "source": [
    "## Deep Learning for NLP "
   ]
  },
  {
   "cell_type": "markdown",
   "metadata": {
    "colab_type": "text",
    "id": "mm_CqC56a7OS"
   },
   "source": [
    "Natural language processing is all about creating systems that process or “understand” language in order to perform certain tasks. These tasks could include:\n",
    "\n",
    "* Question Answering - The main job of technologies like Siri, Alexa, and Cortana\n",
    "* Sentiment Analysis - Determining the emotional tone behind a piece of text\n",
    "* Image to Text Mappings - Generating a caption for an input image\n",
    "* Machine Translation - Translating a paragraph of text to another language\n",
    "* Speech Recognition - Having computers recognize spoken words\n",
    "\n",
    "In the pre-deep learning era, NLP was a thriving field that saw lots of different advancements. However, in all of the successes in the aforementioned tasks, one needed to do a lot of data transformations and feature engineering (e.g. stopwords, stemming, part-of-speech tags, etc.) and thus had to have a lot of domain knowledge in linguistics. Entire 4 year degrees are devoted to this field of study, as practitioners needed to be comfortable with terms like phonemes and morphemes. In the past few years, deep learning has seen incredible progress and has largely removed the requirement of strong domain knowledge. As a result of the lower barrier to entry, applications to NLP tasks have been one of the biggest areas of deep learning research. "
   ]
  },
  {
   "cell_type": "markdown",
   "metadata": {
    "colab_type": "text",
    "id": "YqOwqmrSa7OT"
   },
   "source": [
    "## Extract the Data "
   ]
  },
  {
   "cell_type": "markdown",
   "metadata": {
    "colab_type": "text",
    "id": "sXCUc4v6bGX2"
   },
   "source": [
    "Since we are using Google Colaboratory, we need to get the data from Github:\n",
    "\n",
    "**(Note: ONLY PERFORM THIS STEP IF YOU ARE USING THE GOOGLE COLABORATORY VERIOSN OF THIS NOTEBOOK. You only need to do this once. The repo will persist on the GCE instance your notbook is attached to)**"
   ]
  },
  {
   "cell_type": "code",
   "execution_count": null,
   "metadata": {
    "colab": {
     "autoexec": {
      "startup": false,
      "wait_interval": 0
     },
     "base_uri": "https://localhost:8080/",
     "height": 102,
     "output_extras": [
      {
       "item_id": 5
      }
     ]
    },
    "colab_type": "code",
    "executionInfo": {
     "elapsed": 10727,
     "status": "ok",
     "timestamp": 1515092809799,
     "user": {
      "displayName": "Honto Ming",
      "photoUrl": "//lh4.googleusercontent.com/-rog1jLdpKWM/AAAAAAAAAAI/AAAAAAAAAAw/1O9kEY4kvJE/s50-c-k-no/photo.jpg",
      "userId": "116346329923336049999"
     },
     "user_tz": 480
    },
    "id": "-D9ka3B4bTcM",
    "outputId": "d3183228-7892-450e-85ed-4070c5a1f2d2"
   },
   "outputs": [],
   "source": [
    "#!git clone https://github.com/honto-ming-hs/LSTM-Sentiment-Analysis.git"
   ]
  },
  {
   "cell_type": "markdown",
   "metadata": {
    "colab_type": "text",
    "id": "xq9KDIk1jtRc"
   },
   "source": [
    "We then need to unzip the data files:"
   ]
  },
  {
   "cell_type": "code",
   "execution_count": null,
   "metadata": {
    "colab": {
     "autoexec": {
      "startup": false,
      "wait_interval": 0
     }
    },
    "colab_type": "code",
    "collapsed": true,
    "id": "dDeP6h3ai9E0"
   },
   "outputs": [],
   "source": [
    "!tar -xzf models.tar.gz\n",
    "!tar -xzf training_data.tar.gz"
   ]
  },
  {
   "cell_type": "markdown",
   "metadata": {
    "colab_type": "text",
    "id": "S5xDrM3la7OT"
   },
   "source": [
    "Luckily we have the data in a nice format that is easily accessible. The dataset we're going to use is the Imdb movie review dataset. This set has 25,000 movie reviews, with 12,500 positive reviews and 12,500 negative reviews. Each of the reviews is stored in a txt file that we need to parse through. The positive reviews are stored in one directory and the negative reviews are stored in another. \n",
    "\n",
    "Since the data is relatively small in size in our example, we will wimple read the reviews into memory as a Python list of Strings. In production datasets are often much larger. If it can be fit into memory, we would use optimized data structures such as Pandas dataframes. If not, we may wish to take a random sample so that it does fit into memory, or use tools such as Apache Spark on a cluster. "
   ]
  },
  {
   "cell_type": "code",
   "execution_count": 1,
   "metadata": {
    "colab": {
     "autoexec": {
      "startup": false,
      "wait_interval": 0
     },
     "base_uri": "https://localhost:8080/",
     "height": 51,
     "output_extras": [
      {
       "item_id": 2
      }
     ]
    },
    "colab_type": "code",
    "executionInfo": {
     "elapsed": 2053,
     "status": "ok",
     "timestamp": 1515092848220,
     "user": {
      "displayName": "Honto Ming",
      "photoUrl": "//lh4.googleusercontent.com/-rog1jLdpKWM/AAAAAAAAAAI/AAAAAAAAAAw/1O9kEY4kvJE/s50-c-k-no/photo.jpg",
      "userId": "116346329923336049999"
     },
     "user_tz": 480
    },
    "id": "VFBhGhzQa7OU",
    "outputId": "c039b4de-4a71-4e53-989f-8a540e71b044"
   },
   "outputs": [
    {
     "name": "stdout",
     "output_type": "stream",
     "text": [
      "Positive files finished\n",
      "Negative files finished\n"
     ]
    }
   ],
   "source": [
    "from os import listdir\n",
    "from os.path import isfile, join\n",
    "positiveFiles = ['positiveReviews/' + f for f in \n",
    "                 listdir('positiveReviews/') if \n",
    "                 isfile(join('positiveReviews/', f))]\n",
    "negativeFiles = ['negativeReviews/' + f for f in \n",
    "                 listdir('negativeReviews/') if \n",
    "                 isfile(join('negativeReviews/', f))]\n",
    "numWords = []\n",
    "for pf in positiveFiles:\n",
    "    with open(pf, \"r\", encoding='utf-8') as f:\n",
    "        line=f.readline()\n",
    "        counter = len(line.split())\n",
    "        numWords.append(counter)       \n",
    "print('Positive files finished')\n",
    "\n",
    "for nf in negativeFiles:\n",
    "    with open(nf, \"r\", encoding='utf-8') as f:\n",
    "        line=f.readline()\n",
    "        counter = len(line.split())\n",
    "        numWords.append(counter)  \n",
    "print('Negative files finished')"
   ]
  },
  {
   "cell_type": "markdown",
   "metadata": {
    "colab_type": "text",
    "id": "kBVTqcama7Oc"
   },
   "source": [
    "## Explore the Data"
   ]
  },
  {
   "cell_type": "markdown",
   "metadata": {
    "colab_type": "text",
    "id": "f2AQZ-V9a7Oc"
   },
   "source": [
    "The first step is to take a look at your data. The following code will show 5 random samples from each of the positive and negative reviews:"
   ]
  },
  {
   "cell_type": "code",
   "execution_count": 2,
   "metadata": {
    "colab": {
     "autoexec": {
      "startup": false,
      "wait_interval": 0
     }
    },
    "colab_type": "code",
    "collapsed": true,
    "id": "cXt8vijonMnD"
   },
   "outputs": [],
   "source": [
    "import random\n",
    "\n",
    "def print_rand_review(positive = True, num_to_print=5):\n",
    "  type_rev = \"positive\" if positive else \"negative\"\n",
    "  print(\"{} random {} reviews:\".format(num_to_print, type_rev))\n",
    "  for x in range(num_to_print):\n",
    "    with open(random.choice(positiveFiles), \"r\", encoding='utf-8') as f:\n",
    "      print(f.readline())\n",
    "      print()"
   ]
  },
  {
   "cell_type": "code",
   "execution_count": 3,
   "metadata": {
    "colab": {
     "autoexec": {
      "startup": false,
      "wait_interval": 0
     },
     "base_uri": "https://localhost:8080/",
     "height": 224,
     "output_extras": [
      {
       "item_id": 1
      }
     ]
    },
    "colab_type": "code",
    "executionInfo": {
     "elapsed": 434,
     "status": "ok",
     "timestamp": 1515094183473,
     "user": {
      "displayName": "Honto Ming",
      "photoUrl": "//lh4.googleusercontent.com/-rog1jLdpKWM/AAAAAAAAAAI/AAAAAAAAAAw/1O9kEY4kvJE/s50-c-k-no/photo.jpg",
      "userId": "116346329923336049999"
     },
     "user_tz": 480
    },
    "id": "aH1tEiVXpREb",
    "outputId": "149baaf6-7f9f-49ae-a248-eda4a3201298"
   },
   "outputs": [
    {
     "name": "stdout",
     "output_type": "stream",
     "text": [
      "5 random positive reviews:\n",
      "One of the unsung gems of the 1980's, Scenes... features razor-sharp satire and outstanding performances from Arnetia Walker (how did she not get a ton of roles after this?)and Wallace Shawn. It's a delicious send-up of class warfare and the people in those classes. The writing is hilarious and the characters, while not subtle, are nuanced. And, sorry, but the Asian gangs (if you can call one Japanese guy extorting one of the other characters a \"gang\") were not put in for \"sociological value\" as another review implies they should been. The value here lies in what the movie is making fun of and in the sparklingly wicked way it does it. I found it creative, funny, and idiosyncratic.\n",
      "\n",
      "when my sister said this movie was gonna be good i had second thoughts but i watched it and it was actually funny. basically the movie is made of a weird girl who goes to a small town where no one likes her and she just wants to go there and get the reading of her aunts will don so she can go. but its not all that easy. In this movie you will come across hilarious humor, a witch, a book of spells/recopies, a mentally challenged uncle and a dog. You will understand the meaning of the word freak a after anyways i hope you run right out and try to find this really old movie. hope you like it in total i will have to give it a 0.... no I'm totally joking ill give it a 9 hope you understand that you will laugh, you will scream and you may just be offended.<br /><br />love yours truly: Dakota you can email me at dakota_loves_it@hot mail.com if you wanna\n",
      "\n",
      "Having not seen the previous two in the trilogy of Bourne movies, I was a little reluctant to watch The Bourne Ultimatum.<br /><br />However it was a very thrilling experience and I didn't have the problem of not understanding what was happening due to not seeing the first two films. Each part of the story was easy to understand and I fell in love with The Bourne Ultimatum before it had reached the interval! I don't think I have ever watched such an exquisitely made, and gripping film, especially an action film. Since I usually shy away from action and thriller type movies, this was such great news to me. Ultimatum is one of the most enthralling films, it grabs your attention from the first second till the last minute before the credits roll.<br /><br />Matt Damon was simply fantastic as his role as Jason Bourne. I've heard a lot about his great performances in the Bourne 1+2, and now, this fabulous actor has one more to add to his list. I look forward to seeing more of his movies in the future.<br /><br />The stunts were handled with style - each one was done brilliantly and I was just shocked by the impressiveness of this movie. Well done.\n",
      "\n",
      "CitizenX(1995) is the developing world's answer to Silence of the Lambs. Where `Silence' terrorized our peace of mind, `Citizen' exhausts and saddens us instead. This dramatization of the Chikatilo case translates rather well, thanks to a Westernized friendship between two Rostov cops who become equals.<br /><br />CitizenX may also argue against(!) the death penalty far better than Kevin Spacey's The Life of David Gayle(2002).<br /><br />Humans are Machiavellian mammals, under which lie limbic brains (lizard-logic). Why did two kids, who knew better, stone to death a toddler they kidnapped? Why do bloodthirsty women yell `li-lilililililii' at acts of OBSCENE terrorism? -My own term for this is `limbic domination', the lizard-logic urge to dominate an `enemy'. If you have the words `enemy'/`vengeance' in your vocabulary, you're easily capable of `limbic domination'.<br /><br />In WWII-devastated 1980s Rostov (located at the mouth of the Don river near the Black Sea), nothing suppressed Andrei Chikatilo's urge for `limbic domination' from overpowering his layers of civilization. Chikatilo(Jeffrey DeMunn)'s easy victims were paupers, usually children, who rode the interurban train for fun, since they couldn't afford anything else.<br /><br />CitizenX reminds us that the denials of a rampant Soviet bureaucracy cost the lives of 52 such `lambs'. Rostov's serial killer roamed free for almost 7 years AFTER the police arrested and let him go.<br /><br />The politicization of crimefighting is harmful to police forces everywhere. Although policing routinely suffers from corruption all over the world, in the west, vote-grabbing by politicians can set up chronic inter-agency rivalries, stymieing a more coordinated response to crime. In the Soviet Union of CitizenX, however, Viktor Burakov(Stephen Rea)'s Killer Department was suffering from a repressive bureaucracy.<br /><br />Geoffrey DeMunn plays the psychosexually inadequate Chikatilo with faultless but understated authority--to the point of complete obscurity. In real life, too, Chikatilo had a lifetime's experience blending in and evading capture.<br /><br />His pursuer, on the other hand, sticks out as a strange bird, given to unheralded, naive outbursts. Perhaps by design, Stephen Rea gives a very strange performance as forensics chief Burakov. Rea's Russian accent is impenetrable; and his Burakov is humourless and sullen, at odds with everyone.<br /><br />So it's Donald Sutherland who walks away with the picture. Sutherland's Col.Fetisov, Burakov's boss, and at first his only supporter, is an overly restrained, patient Militiaman whose dignified carriage bears testimony to decades of bureaucratic machinations. His reawakening as a logic-driven yet still passionate cop becomes the film's cornerstone idealism.<br /><br />Joss Ackland does another turn as a vicious apparatchik, Secretary of Communist Ideology Bondarchuk, overseeing the investigation. Naturally, he quashed the arrest of the most likely suspect, a Communist, in 1984, a man carrying rope and a knife in his bag, supposedly going home: Andrei Chikatilo.<br /><br />Soon, he replaced Burakov with another Moscow apparatchik, Detective Gorbunov(John Wood), insisting that the investigation now focus on `known homosexuals'. The funniest scene of this sad, sad film comes during Bondarchuk's & Gorbunov's institutionalized harassment: one stupid cop earnestly reports, `As I suspected, comrade, it's fornication. I've made some drawings'--cue howling laughter.<br /><br />5yrs after the bodies began piling up, in 1987, the police finally tried soliciting criminal profiles. The only cooperating Soviet psychiatrist was Dr Aleksandr Bukhanovsky(Max Von Sydow), who termed the UNSUB `CitizenX'. He later also observed to Fetisov & Burakov that `...together you make a wonderful person'. We concur.<br /><br />The drawn-out pace, spread over a decade, perfectly captures the institutional inertia of Glasnost--`openness'--that wasn't. The contrast with Perestroika--`restructuring'--couldn't've been greater for the case. Although Chikatilo was still prowling railway stations, police plans were about to bear fruit.<br /><br />In 1990, Col.Fetisov was expeditiously promoted to General. His nemesis Bondarchuk disappeared off the scene, allowing the investigation to finally proceed without political interference. Staff, communications, publicity--suddenly all were available. In just one night of telephoning around, Fetisov got his depressed forensics chief access to the FBI's Serial Murder Task Force at Quantico, where, Fetisov discovered, staff are regularly rotated off serial murder cases to stave off just such psychological damage to investigators.<br /><br />Fetisov advises his newly promoted forensics chief, now `Colonel' Burakov, of all these changes in an avalanche of confession that becomes the movie's powerhouse watershed scene. Fetisov's is the most tender apology I've ever seen on film: `Privately, I offer my deepest apologies to you and your wife. I hope that someday you can forgive me my ignorance', he almost whispers.<br /><br />A HBO production, CitizenX is a film of the highest caliber. Not only do the exteriors look authentically bleak (shot exclusively in the most run-down parts of otherwise spectacular Budapest), but Randy Edelman's soaring soundtrack is entirely overwhelming--and frequently our only respite from the bleak brutality. Those who speak Hungarian will recognize the many Hungarian accents and credits.<br /><br />Chikatilo's actual murders are depicted as bleak, aberrant behaviour born of character flaws and ignorance in an equally bleak world. This makes the murders seem not-entirely-out-of-place--but of course they were. As President Kennedy reminded us, `we all cherish the futures of our children'.<br /><br />CitizenX communicates perfectly that killing is far more grisly and obscene than any vengeance fantasy might imply. Serial rapists rape to dominate; serial killers kill to dominate. So do some soldiers. Such `limbic dominators' make poor humans.<br /><br />WARNING-SPOILER:----------------------------------------------- The real Andrei Chikatilo WAS the world's most prolific known serial killer. Convicted, he was executed in 1992 in the manner of all Soviet Union death sentences: one shot, in the back of the head. Foolishly, such methods destroy any possibility of studying a deviant brain after death.<br /><br />Conclusion:------------------------------------------------------------ The best outcome is always the prevention of killings, not their prosecution. Executions merely guarantee society's failure to learn from the complex reality of victims' deaths when we dispatch even anecdotal evidence of HOW/WHY they died. Nor do killers learn regret if they're dead.<br /><br />Vengeance doesn't unkill victims. Baying for the killer's blood constitutes nothing better than counter-domination--once it's too late.<br /><br />Vengeance on behalf of the grieving isn't justice for the deceased--it's appeasement of the living.(10/10)\n",
      "\n",
      "Gunga Din (1939) is based on Rudyard Kipling's poem.The movie is directed by George Stevens.It's set in India during the 19th century where three British soldiers have to stop an evil guru and his murderous cult.Gunga Din is a marvelous adventure war comedy with plenty of thrilling moments.The three leading men are brilliant.Cary Grant is Sgt.Archibald Cutter, Victor McLaglen is Sgt.'Mac' MacChesney and Douglas Fairbanks Jr.(the son of the legendary you know who) is Sgt.Thomas Ballantine.Let's not forget the other fine players who include Sam Jaffe playing Gunga Din himself in a brilliant way.The beautiful and gifted Joan Fontaine is Emaline Stebbins.It's awfully fun to watch the difficulties of Tommy's and Emmy's wedding plans.Gunga Din is awfully lot of fun.It can be funny, it can be thrilling.It can be everything a good movie requires.\n",
      "\n"
     ]
    }
   ],
   "source": [
    "print_rand_review()"
   ]
  },
  {
   "cell_type": "code",
   "execution_count": 4,
   "metadata": {
    "colab": {
     "autoexec": {
      "startup": false,
      "wait_interval": 0
     },
     "base_uri": "https://localhost:8080/",
     "height": 224,
     "output_extras": [
      {
       "item_id": 1
      }
     ]
    },
    "colab_type": "code",
    "executionInfo": {
     "elapsed": 314,
     "status": "ok",
     "timestamp": 1515094201199,
     "user": {
      "displayName": "Honto Ming",
      "photoUrl": "//lh4.googleusercontent.com/-rog1jLdpKWM/AAAAAAAAAAI/AAAAAAAAAAw/1O9kEY4kvJE/s50-c-k-no/photo.jpg",
      "userId": "116346329923336049999"
     },
     "user_tz": 480
    },
    "id": "PBU71OhaprTL",
    "outputId": "0a47e1dd-e8fc-49b3-c5f3-c628baae1c4b"
   },
   "outputs": [
    {
     "name": "stdout",
     "output_type": "stream",
     "text": [
      "5 random negative reviews:\n",
      "First off, this really is my favorite film ever. I don't need to give anyone a description because every a**hole does that. I am literally obsessed with this practically bloodless, cheesy, lame effects having', boom-stick showing', badly edited, 80's metal horror masterpiece. The director (I heard) had hoped for a hit at the box office so that he could do sequels and have a FREDDY/JASON type of deal for himself. Damn, I wish that could've went down like that! The soundtrack's banging'. The acting's good....CHECK THIS MOFO OUT. and any die-hard fans out there, feel free to email and chat sometime. Midgetorgy....I can be found at YAHOO.\n",
      "\n",
      "Watching film i was in very light mood and also this film is light but the end of the film is just unexpected which leaves a long lasting memories in one's mind.<br /><br />movie starts with Abhay and his profession of being witness during registrar marriage. Soha comes for marriage and his boyfriend doesn't, leaving Soha alone on to the street she cant go back home and she don't have any thing to live on here in this situation Abahy turns out to be a helper for her, this is the base of story.<br /><br />The rest is just watchable and the end of the story is bitter sweet that Abhay has to face which keeps you at the edge of the seat.<br /><br />Dialogues and music are good songs are OK direction is good and so as the screenplay you do feel that movie is slow but looking to the demand of story it is all right.<br /><br />A truly watchable especially with light mood i enjoyed this at home with coke and peanuts. my rating for this is 8/10\n",
      "\n",
      "To Be Honost With you i think everything was so good in this movie there should be no reason why it didn't go into theaters,The Deaths in the movie are awesome the fx are awesome when used,There are a few dull moments when the story's following the little girl but all in all this was a very good movie that i hope someday get's the props it should.The very first part of the movie is prob why it came straight to video with them killing a little boy but after that the story is based on a little girl and her mother who came to visit the moms boyfriend who moved out to try to become a writer,The property he buy's turns out to be where the Witch(Tooth Fairy)lives and anyone who live in her house or goes on her property will be in great danger don't wanna give anything really away just a little info if you've wanted to see this movie then do so it's worth the price of the rental\n",
      "\n",
      "I have seen the recent Region 2 DVD of this movie displayed in the \"horror\" section in an Oxford Street store and also advertised as a \"classic thriller\". In reality it is almost solely a vehicle for Arthur Askey, one of the most popular names in British comedy and light entertainment for over four decades.<br /><br />Perhaps his incessantly cheerful, exuberant and essentially good-natured humour comes as a bit of a culture shock to many accustomed to the sour and cynical flavour of much British comedy of the past twenty five years. However there are still those who appreciate his lively and cheery persona and total avoidance of pathos. Askey was an idol of the great Tommy Cooper who frequently borrowed the \"self-strangulation\" gag that Arthur attempts to entertain the stranded passengers with.<br /><br />There is a striking, rare appearance by the under-rated Linden Travers, who makes an impact as the mysterious Julie.\n",
      "\n",
      "\"Who Loves The Sun\" works its way through some prickly subject matter with enough wit and grace to keep the story not only engaging, but often hilarious. It's been a while since I've found such a thoroughly touching, thoroughly enjoyable film. <br /><br />The film is gorgeous, drawing the eye with beautiful scenery and tranquil landscapes. The peaceful imagery contrasts wonderfully with the tension between the very human, very flawed, and yet very likable characters. Due to the excellent cast all five of the major players are wonderfully interesting and dynamic. <br /><br />I recommend \"Who Loves The Sun.\" It's a really funny movie that takes a poignant look at the hurts that we can inflict on each other, and the amazingly difficult but equally rewarding process of forgiveness.\n",
      "\n"
     ]
    }
   ],
   "source": [
    "print_rand_review(False)"
   ]
  },
  {
   "cell_type": "markdown",
   "metadata": {
    "colab_type": "text",
    "id": "lkzjSYCTnMzc"
   },
   "source": [
    "As you can see the reviews are quite long which is good because the longer the review, the more information it contains.\n",
    "\n",
    "As you can see the reviews are quite long which is bad because the longer the review, more we have to concern about the distance between words that have similar context.\n",
    "\n",
    "The following piece of code will determine total and average number of words in each review."
   ]
  },
  {
   "cell_type": "code",
   "execution_count": 5,
   "metadata": {
    "colab": {
     "autoexec": {
      "startup": false,
      "wait_interval": 0
     },
     "base_uri": "https://localhost:8080/",
     "height": 68,
     "output_extras": [
      {
       "item_id": 1
      }
     ]
    },
    "colab_type": "code",
    "executionInfo": {
     "elapsed": 259,
     "status": "ok",
     "timestamp": 1515094369067,
     "user": {
      "displayName": "Honto Ming",
      "photoUrl": "//lh4.googleusercontent.com/-rog1jLdpKWM/AAAAAAAAAAI/AAAAAAAAAAw/1O9kEY4kvJE/s50-c-k-no/photo.jpg",
      "userId": "116346329923336049999"
     },
     "user_tz": 480
    },
    "id": "el-ZsdL_a7Od",
    "outputId": "34186c07-b2e0-433e-f77e-340c01271890"
   },
   "outputs": [
    {
     "name": "stdout",
     "output_type": "stream",
     "text": [
      "The total number of files is 25000\n",
      "The total number of words in the files is 5844680\n",
      "The average number of words in the files is 233.7872\n"
     ]
    }
   ],
   "source": [
    "numFiles = len(numWords)\n",
    "print('The total number of files is', numFiles)\n",
    "print('The total number of words in the files is', sum(numWords))\n",
    "print('The average number of words in the files is', sum(numWords)/len(numWords))"
   ]
  },
  {
   "cell_type": "markdown",
   "metadata": {
    "colab_type": "text",
    "id": "R_ETm_Q5a7Og"
   },
   "source": [
    "We can also use the Matplot library to visualize this data in a histogram format."
   ]
  },
  {
   "cell_type": "code",
   "execution_count": 6,
   "metadata": {
    "colab": {
     "autoexec": {
      "startup": false,
      "wait_interval": 0
     },
     "base_uri": "https://localhost:8080/",
     "height": 283,
     "output_extras": [
      {
       "item_id": 1
      }
     ]
    },
    "colab_type": "code",
    "executionInfo": {
     "elapsed": 490,
     "status": "ok",
     "timestamp": 1515094371639,
     "user": {
      "displayName": "Honto Ming",
      "photoUrl": "//lh4.googleusercontent.com/-rog1jLdpKWM/AAAAAAAAAAI/AAAAAAAAAAw/1O9kEY4kvJE/s50-c-k-no/photo.jpg",
      "userId": "116346329923336049999"
     },
     "user_tz": 480
    },
    "id": "yLGjCDXza7Og",
    "outputId": "e87f5d4f-8075-4308-cee7-b867e7f662ff"
   },
   "outputs": [
    {
     "data": {
      "image/png": "[encoded data removed]",
      "text/plain": [
       "<matplotlib.figure.Figure at 0x7fba1c3e0cc0>"
      ]
     },
     "metadata": {},
     "output_type": "display_data"
    }
   ],
   "source": [
    "import matplotlib.pyplot as plt\n",
    "%matplotlib inline\n",
    "plt.hist(numWords, 50)\n",
    "plt.xlabel('Sequence Length')\n",
    "plt.ylabel('Frequency')\n",
    "plt.axis([0, 1200, 0, 8000])\n",
    "plt.show()"
   ]
  },
  {
   "cell_type": "markdown",
   "metadata": {
    "colab_type": "text",
    "id": "b0FArhZna7Ok"
   },
   "source": [
    "From the histogram as well as the average number of words per file, we can safely say that most reviews will fall under 250 words, which is the max sequence length value we will set."
   ]
  },
  {
   "cell_type": "code",
   "execution_count": 7,
   "metadata": {
    "colab": {
     "autoexec": {
      "startup": false,
      "wait_interval": 0
     }
    },
    "colab_type": "code",
    "collapsed": true,
    "id": "48ZVarGZa7Ol"
   },
   "outputs": [],
   "source": [
    "maxSeqLength = 250"
   ]
  },
  {
   "cell_type": "markdown",
   "metadata": {
    "colab_type": "text",
    "id": "7MHQw690a7Oo"
   },
   "source": [
    "There are other ways you can explore this data such as counting the number of unique words in your corpus, using regex to detect URLs and see how many messages contain URLs, and looking at the distribution of word occurences. For the purpose of this exercise, we will end our data exploration here."
   ]
  },
  {
   "cell_type": "markdown",
   "metadata": {
    "colab_type": "text",
    "id": "1y9Dtn43a7Op"
   },
   "source": [
    "## Transform the Data"
   ]
  },
  {
   "cell_type": "markdown",
   "metadata": {
    "colab_type": "text",
    "id": "N82oNd1fa7Op"
   },
   "source": [
    "Data is rarely in the format that is useful for a machine learning algorithm. In our case, the most obvious transformation requirement is turning the text in a form that is not understood by ML algorithms (String) to a form that is understood by ML algorithms: a numerical vector (aka word vectors/embeddings).  "
   ]
  },
  {
   "cell_type": "markdown",
   "metadata": {
    "colab_type": "text",
    "id": "ReIDHPXWa7Oq"
   },
   "source": [
    "### Word Vectors"
   ]
  },
  {
   "cell_type": "markdown",
   "metadata": {
    "colab_type": "text",
    "id": "zrdcnGeZa7Oq"
   },
   "source": [
    "In order to understand how deep learning can be applied, think about all the different forms of data that are used as inputs into machine learning or deep learning models. Computer vision ML models use arrays of pixel values, and logistic regression uses quantifiable features. The common theme is that the inputs need to be scalar values, or matrices of scalar values. When you think of NLP tasks, however, a data pipeline like this may come to mind. \n",
    " \n",
    "![caption](https://github.com/honto-ming-hs/LSTM-Sentiment-Analysis/blob/master/Images/SentimentAnalysis.png?raw=true)\n",
    "\n",
    "This kind of pipeline is problematic. There is no way for us to do common operations in a neural network like dot products or backpropagation on a single string. Instead of having a string input, we will need to convert each word in the sentence to a vector. \n",
    "\n",
    "![caption](https://github.com/honto-ming-hs/LSTM-Sentiment-Analysis/blob/master/Images/SentimentAnalysis2.png?raw=true)\n",
    "\n",
    "You can think of the input to the sentiment analysis module as being a 16 x D dimensional matrix. "
   ]
  },
  {
   "cell_type": "markdown",
   "metadata": {
    "colab_type": "text",
    "id": "RROUzRkda7Or"
   },
   "source": [
    "We want these vectors to be created in such a way that they somehow represent the word and its context, meaning, and semantics. For example, we’d like the vectors for the words “love” and “adore” to reside in relatively the same area in the vector space since they both have similar definitions and are both used in similar contexts. The vector representation of a word is also known as a word embedding.\n",
    "\n",
    "![caption](https://github.com/honto-ming-hs/LSTM-Sentiment-Analysis/blob/master/Images/SentimentAnalysis8.png?raw=true)"
   ]
  },
  {
   "cell_type": "markdown",
   "metadata": {
    "colab_type": "text",
    "id": "w0moVVQM3cUg"
   },
   "source": [
    "The next subsection goes into a litle mroe detail _how_ word vectors are trained and how it encapsulates the semanticl and/or contextual meaning of a word in a numerical vector. We will skip this sub-section for now but read on if you're interested."
   ]
  },
  {
   "cell_type": "markdown",
   "metadata": {
    "colab_type": "text",
    "id": "26kvR4qoa7Os"
   },
   "source": [
    "#### Aside: Word2Vec"
   ]
  },
  {
   "cell_type": "markdown",
   "metadata": {
    "colab_type": "text",
    "id": "8qw_XPkVa7Os"
   },
   "source": [
    "In order to create these word embeddings, we'll use an *additional* model that's commonly refered to as \"Word2Vec\". Without going into too much detail, the model creates word vectors by looking at the context with which words appear in sentences. Words with similar contexts will be placed close together in the vector space. In natural language, the context of words can be very important when trying to determine their meanings. Taking our previous example of the words \"adore\" and \"love\", consider the types of sentences we'd find these words in.\n",
    "\n",
    "![caption](https://github.com/honto-ming-hs/LSTM-Sentiment-Analysis/blob/master/Images/SentimentAnalysis9.png?raw=true)\n",
    "\n",
    "From the context of the sentences, we can see that both words are generally used in sentences with positive connotations and generally precede nouns or noun phrases. This is an indication that both words have something in common and can possibly be synonyms. Context is also very important when considering grammatical structure in sentences. Most sentences will follow traditional paradigms of having verbs follow nouns, adjectives precede nouns, and so on. For this reason, the model is more likely to position nouns in the same general area as other nouns. The model takes in a large dataset of sentences (English Wikipedia for example) and outputs vectors for each unique word in the corpus. The output of a Word2Vec model is called an embedding matrix.\n",
    "\n",
    "![caption](https://github.com/honto-ming-hs/LSTM-Sentiment-Analysis/blob/master/Images/SentimentAnalysis3.png?raw=true)\n",
    "\n",
    "This embedding matrix will contain vectors for every distinct word in the training corpus. Traditionally, embedding matrices can contain over 3 million word vectors.\n",
    "\n",
    "The Word2Vec model is trained by taking each sentence in the dataset, sliding a window of fixed size over it, and trying to predict the center word of the window, given the other words. Using a loss function and optimization procedure, the model generates vectors for each unique word. The specifics of this training procedure can get a little complicated, so we’re going to skip over the details for now, but the main takeaway here is that inputs into any Deep Learning approach to an NLP task will likely have word vectors as input.\n",
    "\n",
    "For more information on the theory behind Word2Vec and how you create your own embeddings, check out Tensorflow's [tutorial](https://www.tensorflow.org/tutorials/word2vec)"
   ]
  },
  {
   "cell_type": "markdown",
   "metadata": {
    "colab_type": "text",
    "id": "PLcrzXgJ3mhk"
   },
   "source": [
    "### Using Word Vectors"
   ]
  },
  {
   "cell_type": "markdown",
   "metadata": {
    "colab_type": "text",
    "id": "kPkYwEAIuuAg"
   },
   "source": [
    "If we had a very large corpus of movie reviews, we can train our own Word2Vec model. But people have done similar things before so for simplicity, we're going to be using a pretrained model. \n",
    "\n",
    "As one of the biggest players in the ML game, Google was able to train a Word2Vec model on a massive Google News dataset that contained over 100 billion different words! From that model, Google [was able to create 3 million word vectors](https://code.google.com/archive/p/word2vec/#Pre-trained_word_and_phrase_vectors), each with a dimensionality of 300. \n",
    "\n",
    "In an ideal scenario, we'd use those vectors, but since the word vectors matrix is quite large (3.6 GB!), we'll be using a much more manageable matrix that is trained using [GloVe](http://nlp.stanford.edu/projects/glove/), a similar word vector generation model. The matrix will contain 400,000 word vectors, each with a dimensionality of 50. \n",
    "\n",
    "We're going to be importing two different data structures, one will be a Python list with the 400,000 words, and one will be a 400,000 x 50 dimensional embedding matrix that holds all of the word vector values. "
   ]
  },
  {
   "cell_type": "code",
   "execution_count": 8,
   "metadata": {
    "colab": {
     "autoexec": {
      "startup": false,
      "wait_interval": 0
     },
     "base_uri": "https://localhost:8080/",
     "height": 51,
     "output_extras": [
      {
       "item_id": 2
      }
     ]
    },
    "colab_type": "code",
    "executionInfo": {
     "elapsed": 510,
     "status": "ok",
     "timestamp": 1515095659549,
     "user": {
      "displayName": "Honto Ming",
      "photoUrl": "//lh4.googleusercontent.com/-rog1jLdpKWM/AAAAAAAAAAI/AAAAAAAAAAw/1O9kEY4kvJE/s50-c-k-no/photo.jpg",
      "userId": "116346329923336049999"
     },
     "user_tz": 480
    },
    "id": "lhG8raTYvL_H",
    "outputId": "8ecb7ac6-8430-4fbd-81e1-b75e5f876ba7"
   },
   "outputs": [
    {
     "name": "stdout",
     "output_type": "stream",
     "text": [
      "Loaded the word list!\n",
      "Loaded the word vectors!\n"
     ]
    }
   ],
   "source": [
    "import numpy as np\n",
    "wordsList = np.load('wordsList.npy')\n",
    "print('Loaded the word list!')\n",
    "wordsList = wordsList.tolist() #Originally loaded as numpy array\n",
    "wordsList = [word.decode('UTF-8') for word in wordsList] #Encode words as UTF-8\n",
    "wordVectors = np.load('wordVectors.npy')\n",
    "print ('Loaded the word vectors!')"
   ]
  },
  {
   "cell_type": "markdown",
   "metadata": {
    "colab_type": "text",
    "id": "ZBbXP_8evT1L"
   },
   "source": [
    "Just to make sure everything has been loaded in correctly, we can look at the dimensions of the vocabulary list and the embedding matrix."
   ]
  },
  {
   "cell_type": "code",
   "execution_count": 9,
   "metadata": {
    "colab": {
     "autoexec": {
      "startup": false,
      "wait_interval": 0
     }
    },
    "colab_type": "code",
    "id": "Wgj3JVu8vW7N"
   },
   "outputs": [
    {
     "name": "stdout",
     "output_type": "stream",
     "text": [
      "400000\n",
      "(400000, 50)\n"
     ]
    }
   ],
   "source": [
    "print(len(wordsList))\n",
    "print(wordVectors.shape)"
   ]
  },
  {
   "cell_type": "markdown",
   "metadata": {
    "colab_type": "text",
    "id": "VPMC_f7AvYo2"
   },
   "source": [
    "We can also search our word list for a word like \"baseball\", and then access its corresponding vector through the embedding matrix."
   ]
  },
  {
   "cell_type": "code",
   "execution_count": 10,
   "metadata": {
    "colab": {
     "autoexec": {
      "startup": false,
      "wait_interval": 0
     },
     "base_uri": "https://localhost:8080/",
     "height": 187,
     "output_extras": [
      {
       "item_id": 1
      }
     ]
    },
    "colab_type": "code",
    "executionInfo": {
     "elapsed": 255,
     "status": "ok",
     "timestamp": 1515095704816,
     "user": {
      "displayName": "Honto Ming",
      "photoUrl": "//lh4.googleusercontent.com/-rog1jLdpKWM/AAAAAAAAAAI/AAAAAAAAAAw/1O9kEY4kvJE/s50-c-k-no/photo.jpg",
      "userId": "116346329923336049999"
     },
     "user_tz": 480
    },
    "id": "9W3xyW4nvan4",
    "outputId": "eb8ebe6a-0744-40d9-bc73-e35eac130bf6"
   },
   "outputs": [
    {
     "data": {
      "text/plain": [
       "array([-1.93270004,  1.04209995, -0.78514999,  0.91033   ,  0.22711   ,\n",
       "       -0.62158   , -1.64929998,  0.07686   , -0.58679998,  0.058831  ,\n",
       "        0.35628   ,  0.68915999, -0.50598001,  0.70472997,  1.26639998,\n",
       "       -0.40031001, -0.020687  ,  0.80862999, -0.90565997, -0.074054  ,\n",
       "       -0.87674999, -0.62910002, -0.12684999,  0.11524   , -0.55685002,\n",
       "       -1.68260002, -0.26291001,  0.22632   ,  0.713     , -1.08280003,\n",
       "        2.12310004,  0.49869001,  0.066711  , -0.48225999, -0.17896999,\n",
       "        0.47699001,  0.16384   ,  0.16537   , -0.11506   , -0.15962   ,\n",
       "       -0.94926   , -0.42833   , -0.59456998,  1.35660005, -0.27506   ,\n",
       "        0.19918001, -0.36008   ,  0.55667001, -0.70314997,  0.17157   ], dtype=float32)"
      ]
     },
     "execution_count": 10,
     "metadata": {},
     "output_type": "execute_result"
    }
   ],
   "source": [
    "baseballIndex = wordsList.index('baseball')\n",
    "wordVectors[baseballIndex]"
   ]
  },
  {
   "cell_type": "markdown",
   "metadata": {
    "colab_type": "text",
    "id": "t8FOdEF6vnuL"
   },
   "source": [
    "Now that we have our vectors, our first step is taking an input sentence and then constructing the its vector representation. Recall that we capped the length of each review at 250 words. If we convert each word directly into it's 50-D vector representation (as shoen in the output of the cell above), each review will be represented as a 250 x 50. However, this isn't the most efficient use of memory since we're keeping duplicates of a word vector every time the word occurs in our corpus. Luckily, Tensorflow (and many other deep learnign frameworks) realizes this, provides a embedding lookup function built in so that we can simple transform each word into the *index* of the word in the embedding matrix.\n",
    "\n",
    "Let's say that we have the input sentence \"I thought the movie was incredible and inspiring\". In order to get the word vectors, we will use Tensorflow's embedding lookup function. This function takes in two arguments, one for the embedding matrix (the wordVectors matrix in our case), and one for the ids of each of the words. The ids vector can be thought of as the integerized representation of the training set. This is basically just the row index of each of the words. Let's look at a quick example to make this concrete. "
   ]
  },
  {
   "cell_type": "code",
   "execution_count": 11,
   "metadata": {
    "colab": {
     "autoexec": {
      "startup": false,
      "wait_interval": 0
     },
     "base_uri": "https://localhost:8080/",
     "height": 51,
     "output_extras": [
      {
       "item_id": 1
      }
     ]
    },
    "colab_type": "code",
    "executionInfo": {
     "elapsed": 545,
     "status": "ok",
     "timestamp": 1515103145745,
     "user": {
      "displayName": "Honto Ming",
      "photoUrl": "//lh4.googleusercontent.com/-rog1jLdpKWM/AAAAAAAAAAI/AAAAAAAAAAw/1O9kEY4kvJE/s50-c-k-no/photo.jpg",
      "userId": "116346329923336049999"
     },
     "user_tz": 480
    },
    "id": "H_z5Vlv1w_L4",
    "outputId": "8b9000e9-ffbc-4bb5-f1fd-0c3ad4b41299"
   },
   "outputs": [
    {
     "name": "stderr",
     "output_type": "stream",
     "text": [
      "/home/ec2-user/anaconda3/envs/tensorflow_p36/lib/python3.6/importlib/_bootstrap.py:205: RuntimeWarning: compiletime version 3.5 of module 'tensorflow.python.framework.fast_tensor_util' does not match runtime version 3.6\n",
      "  return f(*args, **kwds)\n"
     ]
    },
    {
     "name": "stdout",
     "output_type": "stream",
     "text": [
      "(10,)\n",
      "[    41    804 201534   1005     15   7446      5  13767      0      0]\n"
     ]
    }
   ],
   "source": [
    "import tensorflow as tf\n",
    "seqLength = 10 #Maximum length of sentence\n",
    "numDimensions = 300 #Dimensions for each word vector\n",
    "firstSentence = np.zeros((seqLength), dtype='int32')\n",
    "firstSentence[0] = wordsList.index(\"i\")\n",
    "firstSentence[1] = wordsList.index(\"thought\")\n",
    "firstSentence[2] = wordsList.index(\"the\")\n",
    "firstSentence[3] = wordsList.index(\"movie\")\n",
    "firstSentence[4] = wordsList.index(\"was\")\n",
    "firstSentence[5] = wordsList.index(\"incredible\")\n",
    "firstSentence[6] = wordsList.index(\"and\")\n",
    "firstSentence[7] = wordsList.index(\"inspiring\")\n",
    "#firstSentence[8] and firstSentence[9] are going to be 0\n",
    "print(firstSentence.shape)\n",
    "print(firstSentence) #Shows the row index for each word"
   ]
  },
  {
   "cell_type": "markdown",
   "metadata": {
    "colab_type": "text",
    "id": "KRcfz-e3w8x1"
   },
   "source": [
    "The data pipeline can be illustrated below."
   ]
  },
  {
   "cell_type": "markdown",
   "metadata": {
    "colab_type": "text",
    "id": "UL1jhkX-a7O_"
   },
   "source": [
    "![caption](https://github.com/honto-ming-hs/LSTM-Sentiment-Analysis/blob/master/Images/SentimentAnalysis5.png?raw=true)"
   ]
  },
  {
   "cell_type": "markdown",
   "metadata": {
    "colab_type": "text",
    "id": "3Mh2dWKkBYWZ"
   },
   "source": [
    "The 10 x 50 output should contain the 50 dimensional word vectors for each of the 10 words in the sequence. "
   ]
  },
  {
   "cell_type": "code",
   "execution_count": 12,
   "metadata": {
    "colab": {
     "autoexec": {
      "startup": false,
      "wait_interval": 0
     },
     "base_uri": "https://localhost:8080/",
     "height": 34,
     "output_extras": [
      {
       "item_id": 1
      }
     ]
    },
    "colab_type": "code",
    "executionInfo": {
     "elapsed": 735,
     "status": "ok",
     "timestamp": 1515100443585,
     "user": {
      "displayName": "Honto Ming",
      "photoUrl": "//lh4.googleusercontent.com/-rog1jLdpKWM/AAAAAAAAAAI/AAAAAAAAAAw/1O9kEY4kvJE/s50-c-k-no/photo.jpg",
      "userId": "116346329923336049999"
     },
     "user_tz": 480
    },
    "id": "3R4bblMyBZkk",
    "outputId": "51a56e2e-f224-4b3f-d2c5-6fed2eb99dea"
   },
   "outputs": [
    {
     "name": "stdout",
     "output_type": "stream",
     "text": [
      "(10, 50)\n"
     ]
    }
   ],
   "source": [
    "with tf.Session() as sess:\n",
    "    print(tf.nn.embedding_lookup(wordVectors,firstSentence).eval().shape)"
   ]
  },
  {
   "cell_type": "markdown",
   "metadata": {
    "colab_type": "text",
    "id": "pQTc-k5-CIg5"
   },
   "source": [
    "We're not quite there yet. Notice that the reviews are written in normal mixed case, and it contains punctuation and some html tags such as ``<br />``.\n",
    "\n",
    "If you then look at the 400,000 word vocabulary covered by the pre-trained GloVe vectors you will notice that all words are in lowercase, it contains some puncuation, and it contains no HTML tags. We will need to make transformations to the text before we convert it to the word list index. \n",
    "\n",
    "The following code will do help us do the following transformations:\n",
    "\n",
    "* Lowercase all chars\n",
    "* Keep only alphanumeric characters r\n",
    "* Remove ``<br />``'s'. \n",
    "\n",
    "There are additional transformations we _can_ take (e.g. parsing by whitespace and punctuation \"this. is. \" -> \"this . is . \") but this will suffice for now."
   ]
  },
  {
   "cell_type": "code",
   "execution_count": 13,
   "metadata": {
    "colab": {
     "autoexec": {
      "startup": false,
      "wait_interval": 0
     }
    },
    "colab_type": "code",
    "collapsed": true,
    "id": "xEmcuanvGqlg"
   },
   "outputs": [],
   "source": [
    "# Removes punctuation, parentheses, question marks, etc., and leaves only \n",
    "# alphanumeric characters\n",
    "import re\n",
    "strip_special_chars = re.compile(\"[^A-Za-z0-9 ]+\")\n",
    "\n",
    "def cleanSentences(string):\n",
    "    string = string.lower().replace(\"<br />\", \" \")\n",
    "    return re.sub(strip_special_chars, \"\", string.lower())"
   ]
  },
  {
   "cell_type": "code",
   "execution_count": 14,
   "metadata": {
    "colab": {
     "autoexec": {
      "startup": false,
      "wait_interval": 0
     },
     "base_uri": "https://localhost:8080/",
     "height": 561,
     "output_extras": [
      {
       "item_id": 1
      }
     ]
    },
    "colab_type": "code",
    "executionInfo": {
     "elapsed": 263,
     "status": "ok",
     "timestamp": 1515103161709,
     "user": {
      "displayName": "Honto Ming",
      "photoUrl": "//lh4.googleusercontent.com/-rog1jLdpKWM/AAAAAAAAAAI/AAAAAAAAAAw/1O9kEY4kvJE/s50-c-k-no/photo.jpg",
      "userId": "116346329923336049999"
     },
     "user_tz": 480
    },
    "id": "YidntHswKGmG",
    "outputId": "0a27e935-40b3-4a3c-c05a-ccac2d5715ee"
   },
   "outputs": [
    {
     "data": {
      "text/plain": [
       "array([ 21253,     14,      7,   3366,    461,    787,     38,     14,\n",
       "         2713,  42284,     21,     71,  16313,  26903,      5, 114247,\n",
       "           48,    122,      7,   1083,     14,      4,     30,    257,\n",
       "            6,   2384,      3, 201534,   1781,     34,  21253,     31,\n",
       "           84,   1019,      3,    222,    113,     71,  26903,      5,\n",
       "       114247,  58544,    886,     71,     17, 201534,    275,      3,\n",
       "           71,  11395,  45385,      5,     71,   2694,   1095,     67,\n",
       "           14,    138,      4, 201534,   1083,     17, 201534,   1975,\n",
       "            4,    498,    163,     21,   4643,     22, 201534,   1083,\n",
       "           67,   3346, 201534,  11633,   1781,  12387,     61, 201534,\n",
       "         4974,   2851,   4643,     67,    976,    163,   1220,    561,\n",
       "           48,      3,     71,   2847,  32537,     17, 201534,    275,\n",
       "            3,     71,   2694,   1095,     71,   1446,   3004,     14,\n",
       "         2446,     67,      5, 201534,   1781,    168,    169,   1167,\n",
       "            5,     39,    682,  12441,    661,     49,  21253,    356,\n",
       "         4203,     82,    363,     15,      7,   1324,   1930,    283,\n",
       "         1045,      5,     20,   1827,      4,   9916,   5810,      4,\n",
       "           37,    122,     20,     31,      7, 399999,   5230, 201534,\n",
       "         2153,     32,   8787, 201534,   1499,    144,      7,   2895,\n",
       "           14,      7,   3467,    392,   1058,    907,    100,     37,\n",
       "           14,    835,      5, 201534,    353, 399999,    275,   1361,\n",
       "       201534,    523,     37,     15,    192,   2706,   1005,    988,\n",
       "           60,      5,     20, 316017,    402,    130,      3,     47,\n",
       "         9916,      7,   1446,   3205,  15023,   3885,  59918,  19997,\n",
       "       201534,    397,   4180,    713,     14, 201534,    254,    179,\n",
       "            4,   7380,     37,    319,    144,  64093,  16201,   3468,\n",
       "          403,    974,   9331,    681,   1009,      5,      7,   4353,\n",
       "         4610,      3, 201534,   1005,      0,      0,      0,      0,\n",
       "            0,      0,      0,      0,      0,      0,      0,      0,\n",
       "            0,      0,      0,      0,      0,      0,      0,      0,\n",
       "            0,      0,      0,      0,      0,      0,      0,      0,\n",
       "            0,      0], dtype=int32)"
      ]
     },
     "execution_count": 14,
     "metadata": {},
     "output_type": "execute_result"
    }
   ],
   "source": [
    "firstFile = np.zeros((maxSeqLength), dtype='int32')\n",
    "with open(random.choice(positiveFiles)) as f:\n",
    "    indexCounter = 0\n",
    "    line=f.readline()\n",
    "    cleanedLine = cleanSentences(line)\n",
    "    split = cleanedLine.split()\n",
    "    for word in split:\n",
    "        try:\n",
    "            firstFile[indexCounter] = wordsList.index(word)\n",
    "        except ValueError:\n",
    "            firstFile[indexCounter] = 399999 #Index of vector for unknown words\n",
    "        indexCounter = indexCounter + 1\n",
    "firstFile"
   ]
  },
  {
   "cell_type": "markdown",
   "metadata": {
    "colab_type": "text",
    "id": "Y48h14lGL8k4"
   },
   "source": [
    "Notice that we are padding messages shorter than 250 words with 0, and that all out of vocabulary (OOV) words (i.e. all words in our reviews not found in the 400,000 word covered by the GloVe vectors) have value 399999. It also may be smart here to look and see how many OOV words you have in your data. If there are too many OOV words you may need to use other pre-trained word vectors or train your own. We are going to make the assumption here that there are not too many OOV words in our data."
   ]
  },
  {
   "cell_type": "markdown",
   "metadata": {
    "colab_type": "text",
    "id": "FGGPM7tTMwfH"
   },
   "source": [
    "Now, let's convert our 25,000 reviews from strings to indices. We'll load in the movie training set and integerize it to get a 25000 x 250 matrix. This was a computationally expensive process, so you have the option of running the whole piece or load in a pre-computed IDs matrix."
   ]
  },
  {
   "cell_type": "code",
   "execution_count": null,
   "metadata": {
    "colab": {
     "autoexec": {
      "startup": false,
      "wait_interval": 0
     }
    },
    "colab_type": "code",
    "collapsed": true,
    "id": "0oLuMbvgNIH1"
   },
   "outputs": [],
   "source": [
    "%%time \n",
    "\"\"\"RUN THIS CELL IF YOU WANT TO COMPUTE THE INTEGER INDICES\"\"\"\n",
    "ids = np.zeros((numFiles, maxSeqLength), dtype='int32')\n",
    "fileCounter = 0\n",
    "for pf in positiveFiles:\n",
    "   with open(pf, \"r\") as f:\n",
    "       indexCounter = 0\n",
    "       line=f.readline()\n",
    "       cleanedLine = cleanSentences(line)\n",
    "       split = cleanedLine.split()\n",
    "       for word in split:\n",
    "           try:\n",
    "               ids[fileCounter][indexCounter] = wordsList.index(word)\n",
    "           except ValueError:\n",
    "               ids[fileCounter][indexCounter] = 399999 #Vector for unkown words\n",
    "           indexCounter = indexCounter + 1\n",
    "           if indexCounter >= maxSeqLength:\n",
    "               break\n",
    "       fileCounter = fileCounter + 1 \n",
    "\n",
    "for nf in negativeFiles:\n",
    "   with open(nf, \"r\") as f:\n",
    "       indexCounter = 0\n",
    "       line=f.readline()\n",
    "       cleanedLine = cleanSentences(line)\n",
    "       split = cleanedLine.split()\n",
    "       for word in split:\n",
    "           try:\n",
    "               ids[fileCounter][indexCounter] = wordsList.index(word)\n",
    "           except ValueError:\n",
    "               ids[fileCounter][indexCounter] = 399999 #Vector for unkown words\n",
    "           indexCounter = indexCounter + 1\n",
    "           if indexCounter >= maxSeqLength:\n",
    "               break\n",
    "       fileCounter = fileCounter + 1 \n",
    "#Pass into embedding function and see if it evaluates. \n",
    "\n",
    "np.save('idsMatrix', ids)"
   ]
  },
  {
   "cell_type": "code",
   "execution_count": 15,
   "metadata": {
    "colab": {
     "autoexec": {
      "startup": false,
      "wait_interval": 0
     }
    },
    "colab_type": "code",
    "collapsed": true,
    "id": "vU7GglTFOwEJ"
   },
   "outputs": [],
   "source": [
    "\"\"\"RUN THIS CELL IF YOU WANT TO LOAD THE MATRIX\"\"\"\n",
    "ids = np.load('idsMatrix.npy')"
   ]
  },
  {
   "cell_type": "markdown",
   "metadata": {
    "colab_type": "text",
    "id": "WPAeOL3BRRyo"
   },
   "source": [
    "### Training, Validation, and Testing Sets"
   ]
  },
  {
   "cell_type": "markdown",
   "metadata": {
    "colab_type": "text",
    "id": "mHHD5HqDRX_j"
   },
   "source": [
    "For all machine learning problems, you will need to separate the data into training, validation, and testing sets. Below is a brief description of the purpose of each:"
   ]
  },
  {
   "cell_type": "markdown",
   "metadata": {
    "colab_type": "text",
    "id": "mW3xns9dXAcJ"
   },
   "source": [
    "**Training**\n",
    "* Used to train the model\n",
    "* Randomly sampled into mini batches so that the model training can be done iteratively for each mini batch"
   ]
  },
  {
   "cell_type": "markdown",
   "metadata": {
    "colab_type": "text",
    "id": "KcCSkeoHXAfa"
   },
   "source": [
    "**Validation**\n",
    "* Used periodically through training (end of multipel min-batched) to spot for problems such as overfitting \n",
    "* Also used for tuning hyper-parameters and selection between different model architectures\n",
    "* Cant hink of it as a quasi test set\n",
    "* Can also be used for training if you do not have enough training data (Google \"cross-validation\")"
   ]
  },
  {
   "cell_type": "markdown",
   "metadata": {
    "colab_type": "text",
    "id": "1YAQHljMXAkR"
   },
   "source": [
    "**Testing**\n",
    "* **NOT** used for training\n",
    "* Used at the _**very end of all training when you have selected the model to put into production**_ to estimate how well the model will perform in the real world"
   ]
  },
  {
   "cell_type": "markdown",
   "metadata": {
    "colab_type": "text",
    "id": "H5EunsrcS-TB"
   },
   "source": [
    "There are conflicting views on the purpose and use of a testing set. From a purist's perspective, the testing set should be used once and only once to report the accuracy of the model you have chosen to put into production. If there are multiple models being experimented with, you should compare their accuracy levels with the _validation_ set. Once you have used your testign set to compare the accuracy of multiple models, you are effectively changing it into a validation set. The reason behind this is to avoid overfitting. We will not go into the details here so just remember to set aside data for testing and do not use it until you ahve chosen which model to put into production"
   ]
  },
  {
   "cell_type": "markdown",
   "metadata": {
    "colab_type": "text",
    "id": "A5WtcTLmXRWq"
   },
   "source": [
    "There are many ways we can split the data into the aforementioned subsets. For our example, we will be assuming that the reviews are randomly sampled and ordered in their subdirectories (``LSTM-Sentiment-Analysis/positiveReviews/`` and ``LSTM-Sentiment-Analysis/negativeReviews/``). There are 12,500 reviews each for positive and negative respectivley, so for each type of review we will be taking 10500 for training, 1000 for validation, and 1000 for testing. "
   ]
  },
  {
   "cell_type": "code",
   "execution_count": 16,
   "metadata": {
    "colab": {
     "autoexec": {
      "startup": false,
      "wait_interval": 0
     }
    },
    "colab_type": "code",
    "collapsed": true,
    "id": "mf0ZU38OZhRA"
   },
   "outputs": [],
   "source": [
    "from random import randint\n",
    "\n",
    "def getTrainBatch(batchSize):\n",
    "  labels = []\n",
    "  arr = np.zeros([batchSize, maxSeqLength])\n",
    "  for i in range(batchSize):\n",
    "      if (i % 2 == 0): \n",
    "          num = randint(1,10500)\n",
    "          labels.append([1,0])\n",
    "      else:\n",
    "          num = randint(14501,25000)\n",
    "          labels.append([0,1])\n",
    "      arr[i] = ids[num-1:num]\n",
    "  return arr, np.array(labels)\n",
    "\n",
    "\n",
    "def getTestSet():\n",
    "  # truth labels\n",
    "  labels = [[1,0]] * 1000\n",
    "  neg_labels = [[0,1]] * 1000\n",
    "  labels.extend(neg_labels)\n",
    "  # features (the middle 2000)\n",
    "  features = ids[11500:13500]\n",
    "  return np.array(features), np.array(labels)\n",
    "\n",
    "\n",
    "def getValidationSet():\n",
    "  # truth labels\n",
    "  labels = [[1,0]] * 1000\n",
    "  neg_labels = [[0,1]] * 1000\n",
    "  labels.extend(neg_labels)\n",
    "  # features\n",
    "  pos_features = ids[10500:11500]\n",
    "  neg_features = ids[13500:14500]\n",
    "  return np.vstack((pos_features, neg_features)), np.array(labels)"
   ]
  },
  {
   "cell_type": "markdown",
   "metadata": {
    "colab_type": "text",
    "id": "5e0ZQmLj1CUf"
   },
   "source": [
    "Let's see what each of the above function returns."
   ]
  },
  {
   "cell_type": "markdown",
   "metadata": {
    "colab_type": "text",
    "id": "QK05ccge1Hpd"
   },
   "source": [
    "Training set mini-batches:"
   ]
  },
  {
   "cell_type": "code",
   "execution_count": 17,
   "metadata": {
    "colab": {
     "autoexec": {
      "startup": false,
      "wait_interval": 0
     }
    },
    "colab_type": "code",
    "collapsed": true,
    "id": "2XG_HBitmyaH"
   },
   "outputs": [],
   "source": [
    "batchSize = 5\n",
    "feat, lbl = getTrainBatch(batchSize)"
   ]
  },
  {
   "cell_type": "code",
   "execution_count": 18,
   "metadata": {
    "colab": {
     "autoexec": {
      "startup": false,
      "wait_interval": 0
     },
     "base_uri": "https://localhost:8080/",
     "height": 51,
     "output_extras": [
      {
       "item_id": 1
      }
     ]
    },
    "colab_type": "code",
    "executionInfo": {
     "elapsed": 254,
     "status": "ok",
     "timestamp": 1515113326871,
     "user": {
      "displayName": "Honto Ming",
      "photoUrl": "//lh4.googleusercontent.com/-rog1jLdpKWM/AAAAAAAAAAI/AAAAAAAAAAw/1O9kEY4kvJE/s50-c-k-no/photo.jpg",
      "userId": "116346329923336049999"
     },
     "user_tz": 480
    },
    "id": "3CnpLQJ6m-N0",
    "outputId": "a80b3b78-96d9-49a3-f365-c9af2c6e4421"
   },
   "outputs": [
    {
     "name": "stdout",
     "output_type": "stream",
     "text": [
      "(5, 250)\n",
      "(5, 2)\n"
     ]
    }
   ],
   "source": [
    "print(feat.shape)\n",
    "print(lbl.shape)"
   ]
  },
  {
   "cell_type": "markdown",
   "metadata": {
    "colab_type": "text",
    "id": "Dn_E5Exy1Kbh"
   },
   "source": [
    "The whole test set:"
   ]
  },
  {
   "cell_type": "code",
   "execution_count": 19,
   "metadata": {
    "colab": {
     "autoexec": {
      "startup": false,
      "wait_interval": 0
     }
    },
    "colab_type": "code",
    "collapsed": true,
    "id": "u-SlfMNWnN6J"
   },
   "outputs": [],
   "source": [
    "feat, lbl = getTestSet()"
   ]
  },
  {
   "cell_type": "code",
   "execution_count": 20,
   "metadata": {
    "colab": {
     "autoexec": {
      "startup": false,
      "wait_interval": 0
     },
     "base_uri": "https://localhost:8080/",
     "height": 51,
     "output_extras": [
      {
       "item_id": 1
      }
     ]
    },
    "colab_type": "code",
    "executionInfo": {
     "elapsed": 251,
     "status": "ok",
     "timestamp": 1515113562928,
     "user": {
      "displayName": "Honto Ming",
      "photoUrl": "//lh4.googleusercontent.com/-rog1jLdpKWM/AAAAAAAAAAI/AAAAAAAAAAw/1O9kEY4kvJE/s50-c-k-no/photo.jpg",
      "userId": "116346329923336049999"
     },
     "user_tz": 480
    },
    "id": "AE1Wubd2tXCT",
    "outputId": "694a8f49-6979-4c81-d526-b6ce1b987ec8"
   },
   "outputs": [
    {
     "name": "stdout",
     "output_type": "stream",
     "text": [
      "(2000, 250)\n",
      "(2000, 2)\n"
     ]
    }
   ],
   "source": [
    "print(feat.shape)\n",
    "print(lbl.shape)"
   ]
  },
  {
   "cell_type": "markdown",
   "metadata": {
    "colab_type": "text",
    "id": "kqOVwGnM1SGm"
   },
   "source": [
    "The whole validation set:"
   ]
  },
  {
   "cell_type": "code",
   "execution_count": 21,
   "metadata": {
    "colab": {
     "autoexec": {
      "startup": false,
      "wait_interval": 0
     }
    },
    "colab_type": "code",
    "collapsed": true,
    "id": "ZxvhZepOuIsC"
   },
   "outputs": [],
   "source": [
    "feat, lbl = getValidationSet()"
   ]
  },
  {
   "cell_type": "code",
   "execution_count": 22,
   "metadata": {
    "colab": {
     "autoexec": {
      "startup": false,
      "wait_interval": 0
     },
     "base_uri": "https://localhost:8080/",
     "height": 51,
     "output_extras": [
      {
       "item_id": 1
      }
     ]
    },
    "colab_type": "code",
    "executionInfo": {
     "elapsed": 307,
     "status": "ok",
     "timestamp": 1515113801803,
     "user": {
      "displayName": "Honto Ming",
      "photoUrl": "//lh4.googleusercontent.com/-rog1jLdpKWM/AAAAAAAAAAI/AAAAAAAAAAw/1O9kEY4kvJE/s50-c-k-no/photo.jpg",
      "userId": "116346329923336049999"
     },
     "user_tz": 480
    },
    "id": "Hs3T1_Khuwr0",
    "outputId": "98e8e1a4-3a76-4aa9-eb66-3af35b08453b"
   },
   "outputs": [
    {
     "name": "stdout",
     "output_type": "stream",
     "text": [
      "(2000, 250)\n",
      "(2000, 2)\n"
     ]
    }
   ],
   "source": [
    "print(feat.shape)\n",
    "print(lbl.shape)"
   ]
  },
  {
   "cell_type": "markdown",
   "metadata": {
    "colab_type": "text",
    "id": "JTaaZTTT3Q18"
   },
   "source": [
    "## Build, Train, Tune, and Test Model(s)"
   ]
  },
  {
   "cell_type": "markdown",
   "metadata": {
    "colab_type": "text",
    "id": "HjHvKajX1ySf"
   },
   "source": [
    "The next series of cells under the headings **Recurrent Neaural Networks (RNN)** and **Long Short Term Memory Units (LSTM)** goes into a bit more detail about _how_ recurrent neural networks work. If we have time, we can revisit this later. For the time being, just think of RNNs as a type of machine learning algorithm suited for time series or sequence data. For sentiment analysis with movie reviews, RNNs will not only look at the current word in the review when training and making predictions, but also words that appeared earlier in the review. LSTMs are mechanisms within RNNs that control how much importance to place on the current vs. previous words (or how much of the previous words to remember, hence the term \"memory\" units)."
   ]
  },
  {
   "cell_type": "markdown",
   "metadata": {
    "colab_type": "text",
    "id": "CrVtYyAda7Ot"
   },
   "source": [
    "### Recurrent Neural Networks (RNNs)"
   ]
  },
  {
   "cell_type": "markdown",
   "metadata": {
    "colab_type": "text",
    "id": "vK-__QRca7Ot"
   },
   "source": [
    "Now that we have our word vectors as input, let's look at the actual network architecture we're going to be building. The unique aspect of NLP data is that there is a temporal aspect to it. Each word in a sentence depends greatly on what came before and comes after it. In order to account for this dependency, we use a recurrent neural network.  \n",
    "\n",
    "The recurrent neural network structure is a little different from the traditional feedforward NN you may be accostumed to seeing. The feedforward network consists of input nodes, hidden units, and output nodes. \n",
    "\n",
    "![caption](https://github.com/honto-ming-hs/LSTM-Sentiment-Analysis/blob/master/Images/SentimentAnalysis17.png?raw=true)\n",
    "\n",
    "The main difference between feedforward neural networks and recurrent ones is the temporal aspect of the latter. In RNNs, each word in an input sequence will be associated with a specific time step. In effect, the number of time steps will be equal to the max sequence length. \n",
    "\n",
    "![caption](https://github.com/honto-ming-hs/LSTM-Sentiment-Analysis/blob/master/Images/SentimentAnalysis18.png?raw=true)\n",
    "\n",
    "Associated with each time step is also a new component called a hidden state vector h<sub>t</sub>. From a high level, this vector seeks to encapsulate and summarize all of the information that was seen in the previous time steps. Just like x<sub>t</sub> is a vector that encapsulates all the information of a specific word, h<sub>t</sub> is a vector that summarizes information from previous time steps.\n",
    "\n",
    "The hidden state is a function of both the current word vector and the hidden state vector at the previous time step. The sigma indicates that the sum of the two terms will be put through an activation function (normally a sigmoid or tanh).\n",
    "\n",
    "![caption](https://github.com/honto-ming-hs/LSTM-Sentiment-Analysis/blob/master/Images/SentimentAnalysis15.png?raw=true)\n",
    "\n",
    "The 2 W terms in the above formulation represent weight matrices. If you take a close look at the superscripts, you’ll see that there’s a weight matrix W<sup>X</sup> which we’re going to multiply with our input, and there’s a recurrent weight matrix W<sup>H</sup> which is multiplied with the hidden state vector at the previous time step. W<sup>H</sup> is a matrix that stays the same across all time steps, and the weight matrix W<sup>X</sup> is different for each input. \n",
    "\n",
    "The magnitude of these weight matrices impact the amount the hidden state vector is affected by either the current vector or the previous hidden state. As an exercise, take a look at the above formula, and consider how h<sub>t</sub> would change if either W<sup>X</sup> or W<sup>H</sup> had large or small values. \n",
    "\n",
    "Let's look at a quick example. When the magnitude of W<sup>H</sup> is large and the magnitude of W<sup>X</sup> is small, we know that h<sub>t</sub> is largely affected by h<sub>t-1</sub> and unaffected by x<sub>t</sub>. In other words, the current hidden state vector sees that the current word is largely inconsequential to the overall summary of the sentence, and thus it will take on mostly the same value as the vector at the previous time step. \n",
    "\n",
    "The weight matrices are updated through an optimization process called backpropagation through time. \n",
    "\n",
    "The hidden state vector at the final time step is fed into a binary softmax classifier where it is multiplied by another weight matrix and put through a softmax function that outputs values between 0 and 1, effectively giving us the probabilities of positive and negative sentiment. \n",
    "\n",
    "![caption](https://github.com/honto-ming-hs/LSTM-Sentiment-Analysis/blob/master/Images/SentimentAnalysis16.png?raw=true)"
   ]
  },
  {
   "cell_type": "markdown",
   "metadata": {
    "colab_type": "text",
    "id": "ISO3xdcNa7Ou"
   },
   "source": [
    "### Long Short Term Memory Units (LSTMs) "
   ]
  },
  {
   "cell_type": "markdown",
   "metadata": {
    "colab_type": "text",
    "id": "0UYu-28La7Ov"
   },
   "source": [
    "Long Short Term Memory Units are modules that you can place inside of reucrrent neural entworks. At a high level, they make sure that the hidden state vector h is able to encapsulate information about long term dependencies in the text. As we saw in the previous section, the formulation for h in traditional RNNs is relatively simple. This approach won't be able to effectively connect together information that is separated by more than a couple time steps. We can illiustrate this idea of handling long term dependencies through an example in the field of question answering. The function of question answering models is to take an a passage of text, and answer a question about its content. Let's look at the following example.\n",
    "\n",
    "![caption](https://github.com/honto-ming-hs/LSTM-Sentiment-Analysis/blob/master/Images/SentimentAnalysis4.png?raw=true)\n",
    "\n",
    "Here, we see that the middle sentence had no impact on the question that was asked. However, there is a strong connection between the first and third sentences. With a classic RNN, the hidden state vector at the end of the network might have stored more information about the dog sentence than about the first sentence about the number. Basically, the addition of LSTM units make it possible to determine the correct and useful information that needs to be stored in the hidden state vector.\n",
    "\n",
    "Looking at LSTM units from a more technical viewpoint, the units take in the current word vector x<sub>t</sub> and output the hidden state vector h<sub>t</sub>. In these units, the formulation for h<sub>t</sub> will be a bit more complex than that in a typical RNN. The computation is broken up into 4 components, an input gate, a forget gate, an output gate, and a new memory container. \n",
    "\n",
    "![caption](https://github.com/honto-ming-hs/LSTM-Sentiment-Analysis/blob/master/Images/SentimentAnalysis10.png?raw=true)\n",
    "\n",
    "Each gate will take in x<sub>t</sub> and h<sub>t-1</sub> (not shown in image) as inputs and will perform some computation on them to obtain intermediate states. Each intermediate state gets fed into different pipelines and eventually the information is aggregated to form h<sub>t</sub>. For simplicity sake, we won't go into the specific formulations for each gate, but it's worth noting that each of these gates can be thought of as different modules within the LSTM that each have different functions. The input gate determines how much emphasis to put on each of the inputs, the forget gate determines the information that we'll throw away, and the output gate determines the final h<sub>t</sub> based on the intermediate states. For more information on understanding the functions of the different gates and the full equations, check out Christopher Olah's great [blog post](http://colah.github.io/posts/2015-08-Understanding-LSTMs/).\n",
    "\n",
    "Looking back at the first example with question “What is the sum of the two numbers?”, the model would have to be trained on similar types of questions and answers. The LSTM units would then be able to realize that any sentence without numbers will likely not have an impact on the answer to the question, and thus the unit will be able to utilize its forget gate to discard the unnecessary information about the dog, and rather keep the information regarding the numbers. "
   ]
  },
  {
   "cell_type": "markdown",
   "metadata": {
    "colab_type": "text",
    "id": "Bc8oYcr-a7Ow"
   },
   "source": [
    "### Building the RNN Model"
   ]
  },
  {
   "cell_type": "markdown",
   "metadata": {
    "colab_type": "text",
    "id": "zlzAzknea7Ow"
   },
   "source": [
    "As a quick review, so far we have done the following:\n",
    "\n",
    "    1) Training a word vector generation model (such as Word2Vec) or loading pretrained word vectors (GloVe). teh result is a large matrix with each row reprresenting a word in our vocab\n",
    "    2) Transforming each review from String to a list of IDs that refers to the row index of the word in the pre-trained word vector matrix\n",
    "    3) Split the data set into training mini batches, validation set, and testing set\n",
    "    \n",
    "We will now:\n",
    "\n",
    "    1) Define the compute graph for the RNN with LSTM units (fancy way of saying build the model)\n",
    "    2) Define and iteratively execute the training step\n",
    "    3) Validate with the validation set once every x training steps\n",
    "    4) Calculate testing accuracy"
   ]
  },
  {
   "cell_type": "markdown",
   "metadata": {
    "colab_type": "text",
    "id": "su4vjfvVa7PY"
   },
   "source": [
    "Now, we’re ready to start creating our Tensorflow graph. We’ll first need to define some hyperparameters, such as batch size, number of LSTM units, number of output classes, number of training iterations, and the dimensions fo our word embeddings."
   ]
  },
  {
   "cell_type": "code",
   "execution_count": 54,
   "metadata": {
    "colab": {
     "autoexec": {
      "startup": false,
      "wait_interval": 0
     }
    },
    "colab_type": "code",
    "collapsed": true,
    "id": "RJwrlFT1a7PY"
   },
   "outputs": [],
   "source": [
    "batchSize = 24\n",
    "lstmUnits = 64\n",
    "numClasses = 2\n",
    "iterations = 100000\n",
    "\n",
    "# specs for the embeddings\n",
    "doc_vocab_size = wordVectors.shape[0]\n",
    "embedding_dim = wordVectors.shape[1]"
   ]
  },
  {
   "cell_type": "markdown",
   "metadata": {
    "colab_type": "text",
    "id": "zD2hxTu-a7PZ"
   },
   "source": [
    "As with most Tensorflow graphs, we’ll now need to specify two placeholders, one for the inputs into the network, and one for the labels. The most important part about defining these placeholders is understanding each of their dimensionalities. "
   ]
  },
  {
   "cell_type": "markdown",
   "metadata": {
    "colab_type": "text",
    "id": "hIWCHJs5a7Pa"
   },
   "source": [
    "The labels placeholder represents a set of values, each either [1, 0] or [0, 1], depending on whether each training example is positive or negative. Each row in the integerized input placeholder represents the integerized representation of each training example that we include in our batch."
   ]
  },
  {
   "cell_type": "markdown",
   "metadata": {
    "colab_type": "text",
    "id": "OjUR5XDua7Pb"
   },
   "source": [
    "![caption](https://github.com/honto-ming-hs/LSTM-Sentiment-Analysis/blob/master/Images/SentimentAnalysis12.png?raw=true)"
   ]
  },
  {
   "cell_type": "code",
   "execution_count": 55,
   "metadata": {
    "colab": {
     "autoexec": {
      "startup": false,
      "wait_interval": 0
     },
     "base_uri": "https://localhost:8080/",
     "height": 215,
     "output_extras": [
      {
       "item_id": 1
      }
     ]
    },
    "colab_type": "code",
    "collapsed": true,
    "executionInfo": {
     "elapsed": 300,
     "status": "error",
     "timestamp": 1515115713269,
     "user": {
      "displayName": "Honto Ming",
      "photoUrl": "//lh4.googleusercontent.com/-rog1jLdpKWM/AAAAAAAAAAI/AAAAAAAAAAw/1O9kEY4kvJE/s50-c-k-no/photo.jpg",
      "userId": "116346329923336049999"
     },
     "user_tz": 480
    },
    "id": "bx1RL1yva7Pb",
    "outputId": "68bc934b-43dd-40cd-cf0b-3688136f4fa9"
   },
   "outputs": [],
   "source": [
    "import tensorflow as tf\n",
    "tf.reset_default_graph()\n",
    "\n",
    "labels = tf.placeholder(tf.float32, [None, numClasses]) # using None for the first dim so that we can \n",
    "#[batchSize, numClasses])\n",
    "input_data = tf.placeholder(tf.int32, [None, maxSeqLength])\n",
    "#[batchSize, maxSeqLength])\n",
    "\n",
    "dropout_keep_prob = tf.placeholder(tf.float32, name=\"dropout_keep_prob\")"
   ]
  },
  {
   "cell_type": "markdown",
   "metadata": {
    "colab_type": "text",
    "id": "HKacPFqoa7Pd"
   },
   "source": [
    "Once we have our input data placeholder, we’re going to call the tf.nn.lookup() function in order to get our word vectors. The call to that function will return a 3-D Tensor of dimensionality batch size by max sequence length by word vector dimensions. In order to visualize this 3-D tensor, you can simply think of each data point in the integerized input tensor as the corresponding D dimensional vector that it refers to. \n"
   ]
  },
  {
   "cell_type": "markdown",
   "metadata": {
    "colab_type": "text",
    "id": "oPzVkaAva7Pe"
   },
   "source": [
    "![caption](https://github.com/honto-ming-hs/LSTM-Sentiment-Analysis/blob/master/Images/SentimentAnalysis13.png?raw=true)"
   ]
  },
  {
   "cell_type": "code",
   "execution_count": 56,
   "metadata": {
    "colab": {
     "autoexec": {
      "startup": false,
      "wait_interval": 0
     }
    },
    "colab_type": "code",
    "id": "CJX1nc-Ea7Pe"
   },
   "outputs": [],
   "source": [
    "W = tf.Variable(tf.constant(0.0, shape=[doc_vocab_size, embedding_dim]), trainable=True, name=\"W_embeddings\")\n",
    "embedding_placeholder = tf.placeholder(tf.float32, [doc_vocab_size, embedding_dim])\n",
    "embedding_init = W.assign(embedding_placeholder)\n",
    "data = tf.nn.embedding_lookup(W,input_data)"
   ]
  },
  {
   "cell_type": "markdown",
   "metadata": {},
   "source": [
    "Because we want to use this graph for training with mini batches, and with validation and testing sets which differ from the mini-batches so we need to have a placeholder for the batch size."
   ]
  },
  {
   "cell_type": "code",
   "execution_count": 57,
   "metadata": {
    "collapsed": true
   },
   "outputs": [],
   "source": [
    "batch_size = tf.placeholder(tf.int32, [], name='batch_size')"
   ]
  },
  {
   "cell_type": "markdown",
   "metadata": {
    "colab_type": "text",
    "id": "NUG2kQ92a7Pg"
   },
   "source": [
    "Now that we have the data in the format that we want, let’s look at how we can feed this input into an LSTM network. We’re going to call the tf.nn.rnn_cell.BasicLSTMCell function. This function takes in an integer for the number of LSTM units that we want. This is one of the hyperparameters that will take some tuning to figure out the optimal value. We’ll then wrap that LSTM cell in a dropout layer to help prevent the network from overfitting. "
   ]
  },
  {
   "cell_type": "markdown",
   "metadata": {
    "colab_type": "text",
    "id": "ZPSAyg8ca7Pg"
   },
   "source": [
    "Finally, we’ll feed both the LSTM cell and the 3-D tensor full of input data into a function called tf.nn.dynamic_rnn. This function is in charge of unrolling the whole network and creating a pathway for the data to flow through the RNN graph."
   ]
  },
  {
   "cell_type": "code",
   "execution_count": 58,
   "metadata": {
    "colab": {
     "autoexec": {
      "startup": false,
      "wait_interval": 0
     }
    },
    "colab_type": "code",
    "id": "B12_PKO7a7Pg"
   },
   "outputs": [],
   "source": [
    "lstmCell = tf.contrib.rnn.BasicLSTMCell(lstmUnits)\n",
    "lstmCell = tf.contrib.rnn.DropoutWrapper(cell=lstmCell, output_keep_prob=dropout_keep_prob)\n",
    "init_state = lstmCell.zero_state(batchSize, dtype=tf.float32)\n",
    "#batch_size, dtype=tf.float32)\n",
    "value, _ = tf.nn.dynamic_rnn(lstmCell, data, initial_state=init_state, dtype=tf.float32, time_major=False)\n",
    "\n",
    "#print(value.op)\n",
    "# improvements here can include passing sequence length so for reviews of lenght < 250,\n",
    "# we get the correct last state"
   ]
  },
  {
   "cell_type": "markdown",
   "metadata": {
    "colab_type": "text",
    "id": "mbVfFb3ma7Pi"
   },
   "source": [
    "As a side note, another more advanced network architecture choice is to stack multiple LSTM cells on top of each other. This is where the final hidden state vector of the first LSTM feeds into the second. Stacking these cells is a great way to help the model retain more long term dependence information, but also introduces more parameters into the model, thus possibly increasing the training time, the need for additional training examples, and the chance of overfitting. For more information on how you can add stacked LSTMs to your model, check out Tensorflow's excellent [documentation](https://www.tensorflow.org/tutorials/recurrent#stacking_multiple_lstms)."
   ]
  },
  {
   "cell_type": "markdown",
   "metadata": {
    "colab_type": "text",
    "id": "wgXY7-j0a7Pi"
   },
   "source": [
    "The first output of the dynamic RNN function can be thought of as the last hidden state vector. This vector will be reshaped and then multiplied by a final weight matrix and a bias term to obtain the final output values."
   ]
  },
  {
   "cell_type": "code",
   "execution_count": 59,
   "metadata": {
    "colab": {
     "autoexec": {
      "startup": false,
      "wait_interval": 0
     }
    },
    "colab_type": "code",
    "id": "TaZoQf8Qa7Pi"
   },
   "outputs": [],
   "source": [
    "weight = tf.Variable(tf.truncated_normal([lstmUnits, numClasses]))\n",
    "bias = tf.Variable(tf.constant(0.1, shape=[numClasses]))\n",
    "value = tf.transpose(value, [1, 0, 2])\n",
    "#print(value.op)\n",
    "last = tf.gather(value, int(value.get_shape()[0]) - 1)\n",
    "prediction = (tf.matmul(last, weight) + bias)"
   ]
  },
  {
   "cell_type": "markdown",
   "metadata": {
    "colab_type": "text",
    "id": "DW264BBRa7Pk"
   },
   "source": [
    "Next, we’ll define correct prediction and accuracy metrics to track how the network is doing. The correct prediction formulation works by looking at the index of the maximum value of the 2 output values, and then seeing whether it matches with the training labels. "
   ]
  },
  {
   "cell_type": "code",
   "execution_count": 60,
   "metadata": {
    "colab": {
     "autoexec": {
      "startup": false,
      "wait_interval": 0
     }
    },
    "colab_type": "code",
    "collapsed": true,
    "id": "Z_FfZVQta7Pk"
   },
   "outputs": [],
   "source": [
    "correctPred = tf.equal(tf.argmax(prediction,1), tf.argmax(labels,1))\n",
    "accuracy = tf.reduce_mean(tf.cast(correctPred, tf.float32))"
   ]
  },
  {
   "cell_type": "markdown",
   "metadata": {
    "colab_type": "text",
    "id": "TL9hjsNKa7Pm"
   },
   "source": [
    "We’ll define a standard cross entropy loss with a softmax layer put on top of the final prediction values. For the optimizer, we’ll use Adam and the default learning rate of .001. "
   ]
  },
  {
   "cell_type": "code",
   "execution_count": 61,
   "metadata": {
    "colab": {
     "autoexec": {
      "startup": false,
      "wait_interval": 0
     }
    },
    "colab_type": "code",
    "id": "m4CSEZOVa7Pn"
   },
   "outputs": [],
   "source": [
    "loss = tf.reduce_mean(tf.nn.softmax_cross_entropy_with_logits(logits=prediction, labels=labels))\n",
    "optimizer = tf.train.AdamOptimizer().minimize(loss)"
   ]
  },
  {
   "cell_type": "markdown",
   "metadata": {
    "colab_type": "text",
    "id": "aaLpaxdha7Pp"
   },
   "source": [
    "If you’d like to use Tensorboard to visualize the loss and accuracy values, you can also run and the modify the following code. "
   ]
  },
  {
   "cell_type": "code",
   "execution_count": 62,
   "metadata": {
    "colab": {
     "autoexec": {
      "startup": false,
      "wait_interval": 0
     }
    },
    "colab_type": "code",
    "collapsed": true,
    "id": "5h1c00qka7Pp"
   },
   "outputs": [],
   "source": [
    "import datetime\n",
    "\n",
    "tf.summary.scalar('Loss', loss)\n",
    "tf.summary.scalar('Accuracy', accuracy)\n",
    "merged = tf.summary.merge_all()\n",
    "logdir = \"tensorboard/\" + datetime.datetime.now().strftime(\"%Y%m%d-%H%M%S\") + \"/\"\n",
    "writer = tf.summary.FileWriter(logdir + \"train/\", sess.graph)"
   ]
  },
  {
   "cell_type": "markdown",
   "metadata": {
    "colab_type": "text",
    "id": "h0keo7xxa7Pq"
   },
   "source": [
    "#### Hyperparameter Tuning"
   ]
  },
  {
   "cell_type": "markdown",
   "metadata": {
    "colab_type": "text",
    "id": "fyD99908a7Pq"
   },
   "source": [
    "Choosing the right values for your hyperparameters is a crucial part of training deep neural networks effectively. You'll find that your training loss curves can vary with your choice of optimizer (Adam, Adadelta, SGD, etc), learning rate, and network architecture. With RNNs and LSTMs in particular, some other important factors include the number of LSTM units and the size of the word vectors.\n",
    "\n",
    "* Learning Rate: RNNs are infamous for being diffult to train because of the large number of time steps they have. Learning rate becomes extremely important since we don't want our weight values to fluctuate wildly as a result of a large learning rate, nor do we want a slow training process due to a low learning rate. The default value of 0.001 is a good place to start. You should increase this value if the training loss is changing very slowly, and decrease if the loss is unstable.  \n",
    "* Optimizer: There isn't a consensus choice among researchers, but Adam has been widely popular due to having the adaptive learning rate property (Keep in mind that optimal learning rates can differ with the choice of optimizer).\n",
    "* Number of LSTM units: This value is largely dependent on the average length of your input texts. While a greater number of units provides more expressibility for the model and allows the model to store more information for longer texts, the network will take longer to train and will be computationally expensive. \n",
    "* Word Vector Size: Dimensions for word vectors generally range from 50 to 300. A larger size means that the vector is able to encapsulate more information about the word, but you should also expect a more computationally expensive model. "
   ]
  },
  {
   "cell_type": "markdown",
   "metadata": {
    "colab_type": "text",
    "id": "2aaGIsAwa7Pr"
   },
   "source": [
    "### Training"
   ]
  },
  {
   "cell_type": "markdown",
   "metadata": {
    "colab_type": "text",
    "id": "4sNG4bsOa7Pr"
   },
   "source": [
    "Here is an  oversimplified description of how to train any machine learning model:\n",
    "\n",
    "1. Give the model a batch of training data\n",
    "2. The model makes a prediction on the batch based on it's current state\n",
    "3. The predictions are compared with the ground truth for the training batch. An loss measure is calculated based on the difference between predictions and the ground truth\n",
    "4. The model adjusts its parameters to minimize the lost\n",
    "5. Repeat until loss is acceptable or it cannot be lowered\n",
    "\n",
    "Steps 2-4 are actually defined previously in the compute graph (``prediction``, ``loss``, ``optimizer``). Also notice that these steps form a dependancy (``prediction`` > ``loss`` > ``optimizer``) in the compute graph.\n",
    "The way Tensorflow works is that once you have to first define the compute graph (model), and you then tell Tensorflow what parts of the graph to execute in a session. Luckily, rather than listing all the parts of the graph to execute, you just have to identify the part furthest down the dependancy chain to execute, and Tensorflow will execute all upstream parts autoamtically. In our case, our training step ends at the ``optimizer`` operation."
   ]
  },
  {
   "cell_type": "markdown",
   "metadata": {
    "colab_type": "text",
    "id": "yfhTft67E7Ko"
   },
   "source": [
    "To put it together,  we first define a Tensorflow session. Then, we load in a batch of reviews and their associated labels. Next, we call the session’s `run` function. This function has two arguments. The first is called the \"fetches\" argument. It defines the value we’re interested in computing. We want our  4) ``optimizer`` to be computed since that is the component that minimizes our loss function. The second argument is where we input our `feed_dict`. This data structure is where we provide inputs to all of our placeholders. We need to 1) feed our training mini-batch of reviews and our batch of labels. This loop is then 5) repeated for a set number of training iterations."
   ]
  },
  {
   "cell_type": "markdown",
   "metadata": {
    "colab_type": "text",
    "id": "SPJzm8cea7Pr"
   },
   "source": [
    "Instead of training the network in this notebook (which will take at least a couple of hours), we’ll load in a pretrained model.\n",
    "\n",
    "If you decide to train this notebook on your own machine, note that you can track its progress using [TensorBoard](https://www.tensorflow.org/get_started/summaries_and_tensorboard). While the following cell is running, use your terminal to enter the directory that contains this notebook, enter `tensorboard --logdir=tensorboard`, and visit http://localhost:6006/ with a browser to keep an eye on your training progress."
   ]
  },
  {
   "cell_type": "code",
   "execution_count": null,
   "metadata": {
    "colab": {
     "autoexec": {
      "startup": false,
      "wait_interval": 0
     }
    },
    "colab_type": "code",
    "id": "ZBux5_D6a7Ps"
   },
   "outputs": [
    {
     "name": "stdout",
     "output_type": "stream",
     "text": [
      "Train accuracy for batch #0: 54.16666865348816\n",
      "Train accuracy for batch #2000: 70.83333134651184\n",
      "Train accuracy for batch #4000: 75.0\n",
      "Train accuracy for batch #6000: 83.33333134651184\n",
      "Train accuracy for batch #8000: 66.66666865348816\n",
      "saved to models/pretrained_lstm.ckpt-10000\n",
      "Train accuracy for batch #10000: 62.5\n",
      "Train accuracy for batch #12000: 87.5\n"
     ]
    }
   ],
   "source": [
    "%%time \n",
    "\n",
    "#sess = tf.InteractiveSession()\n",
    "sess = tf.Session(config=tf.ConfigProto(log_device_placement=True))\n",
    "saver = tf.train.Saver()\n",
    "sess.run(tf.global_variables_initializer())\n",
    "sess.run(embedding_init, feed_dict={embedding_placeholder: wordVectors})\n",
    "\n",
    "\n",
    "for i in range(iterations):\n",
    "    #Next Batch of reviews\n",
    "    nextBatch, nextBatchLabels = getTrainBatch(batchSize);\n",
    "    # feed dict for feeding data:\n",
    "    feed_dict = {input_data: nextBatch,\n",
    "                 labels: nextBatchLabels,\n",
    "                 dropout_keep_prob: 0.75,\n",
    "                 batch_size: batchSize #,\n",
    "                 #embedding_placeholder: wordVectors\n",
    "                 }\n",
    "    sess.run(optimizer, feed_dict)\n",
    "    \n",
    "    #Write summary to Tensorboard\n",
    "    if (i % 50 == 0):\n",
    "        summary = sess.run(merged, feed_dict)\n",
    "        writer.add_summary(summary, i)\n",
    "\n",
    "    #Save the network every 10,000 training iterations\n",
    "    if (i % 10000 == 0 and i != 0):\n",
    "       save_path = saver.save(sess, \"models/pretrained_lstm.ckpt\", global_step=i)\n",
    "       print(\"saved to %s\" % save_path)\n",
    "        \n",
    "    # print the training and validation accuracy every 2000 iterations\n",
    "    if(i % 2000 == 0):\n",
    "        print(\"Train accuracy for batch #{}: {}\". \\\n",
    "              format(i, (sess.run(accuracy, feed_dict)) * 100))\n",
    "#         valSet, valSetLabels = getValidationSet()\n",
    "#         feed_dict_eval = {input_data: valSet,\n",
    "#                           labels: valSetLabels,\n",
    "#                           dropout_keep_prob: 1.00,\n",
    "#                           batch_size: 2000 #,\n",
    "#                           #embedding_placeholder: wordVectors\n",
    "#                          }\n",
    "#         print(\"Validation accuracy for batch #{}: {}\". \\\n",
    "#               format(i, (sess.run(accuracy, feed_dict_eval)) * 100))\n",
    "        \n",
    "writer.close()"
   ]
  },
  {
   "cell_type": "markdown",
   "metadata": {
    "colab_type": "text",
    "id": "LHyj0D2_a7Pt"
   },
   "source": [
    "### Loading a Pretrained Model"
   ]
  },
  {
   "cell_type": "markdown",
   "metadata": {
    "colab_type": "text",
    "id": "77vYTYFca7Pt"
   },
   "source": [
    "Our pretrained model’s accuracy and loss curves during training can be found below. "
   ]
  },
  {
   "cell_type": "markdown",
   "metadata": {
    "colab_type": "text",
    "id": "ZmpcCGbQa7Pu"
   },
   "source": [
    "![caption](https://github.com/honto-ming-hs/LSTM-Sentiment-Analysis/blob/master/Images/SentimentAnalysis6.png?raw=true)\n",
    "![caption](https://github.com/honto-ming-hs/LSTM-Sentiment-Analysis/blob/master/Images/SentimentAnalysis7.png?raw=true)"
   ]
  },
  {
   "cell_type": "markdown",
   "metadata": {
    "colab_type": "text",
    "id": "y-Cy7z_Ja7Pu"
   },
   "source": [
    "Looking at the training curves above, it seems that the model's training is going well. The loss is decreasing steadily, and the accuracy is approaching 100 percent. However, when analyzing training curves, we should also pay special attention to the possibility of our model overfitting the training dataset. Overfitting is a common phenomenon in machine learning where a model becomes so fit to the training data that it loses the ability to generalize to the test set. This means that training a network until you achieve 0 training loss might not be the best way to get an accurate model that performs well on data it has never seen before. Early stopping is an intuitive technique commonly used with LSTM networks to combat this issue. The basic idea is that we train the model on our training set, while also measuring its performance on the test set every now and again. Once the test error stops its steady decrease and begins to increase instead, you'll know to stop training, since this is a sign that the network has begun to overfit. "
   ]
  },
  {
   "cell_type": "markdown",
   "metadata": {
    "colab_type": "text",
    "id": "vkNPLsEya7Pu"
   },
   "source": [
    "Loading a pretrained model involves defining another Tensorflow session, creating a Saver object, and then using that object to call the restore function. This function takes into 2 arguments, one for the current session, and one for the name of the saved model. "
   ]
  },
  {
   "cell_type": "code",
   "execution_count": null,
   "metadata": {
    "colab": {
     "autoexec": {
      "startup": false,
      "wait_interval": 0
     }
    },
    "colab_type": "code",
    "collapsed": true,
    "id": "5QpZPs_ia7Pv"
   },
   "outputs": [],
   "source": [
    "sess = tf.InteractiveSession()\n",
    "saver = tf.train.Saver()\n",
    "saver.restore(sess, tf.train.latest_checkpoint('models'))"
   ]
  },
  {
   "cell_type": "markdown",
   "metadata": {
    "colab_type": "text",
    "id": "8x8Q9GSCa7Pw"
   },
   "source": [
    "Then we’ll load some movie reviews from our test set. Remember, these are reviews that the model has not been trained on and has never seen before. The accuracy for each test batch can be seen when you run the following code. "
   ]
  },
  {
   "cell_type": "code",
   "execution_count": null,
   "metadata": {
    "colab": {
     "autoexec": {
      "startup": false,
      "wait_interval": 0
     }
    },
    "colab_type": "code",
    "collapsed": true,
    "id": "Jcusl1Zla7Pw"
   },
   "outputs": [],
   "source": [
    "testSet, testSetLabels = getTestSet()\n",
    "print(\"Test accuracy\", (sess.run(accuracy, {input_data: testSet, labels: testSetLabels})) * 100)"
   ]
  },
  {
   "cell_type": "markdown",
   "metadata": {
    "colab_type": "text",
    "id": "OC9-XM22a7Py"
   },
   "source": [
    "# Conclusion"
   ]
  },
  {
   "cell_type": "markdown",
   "metadata": {
    "colab_type": "text",
    "id": "Hv5HtKMXa7Py"
   },
   "source": [
    "In this notebook, we went over a deep learning approach to sentiment analysis. We looked at the different components involved in the whole pipeline and then looked at the process of writing Tensorflow code to implement the model in practice. Finally, we trained and tested the model so that it is able to classify movie reviews.\n",
    "\n",
    "With the help of Tensorflow, you can create your own sentiment classifiers to understand the large amounts of natural language in the world, and use the results to form actionable insights. Thanks for reading and following along!"
   ]
  }
 ],
 "metadata": {
  "colab": {
   "collapsed_sections": [],
   "default_view": {},
   "name": "LSTM_sentiment_analysis.ipynb",
   "provenance": [],
   "version": "0.3.2",
   "views": {}
  },
  "kernelspec": {
   "display_name": "conda_tensorflow_p36",
   "language": "python",
   "name": "conda_tensorflow_p36"
  },
  "language_info": {
   "codemirror_mode": {
    "name": "ipython",
    "version": 3
   },
   "file_extension": ".py",
   "mimetype": "text/x-python",
   "name": "python",
   "nbconvert_exporter": "python",
   "pygments_lexer": "ipython3",
   "version": "3.6.2"
  }
 },
 "nbformat": 4,
 "nbformat_minor": 1
}
